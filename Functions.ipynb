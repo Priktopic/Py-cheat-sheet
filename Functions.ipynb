{
 "cells": [
  {
   "cell_type": "markdown",
   "id": "7ba94863",
   "metadata": {},
   "source": [
    "### Enumerate"
   ]
  },
  {
   "cell_type": "code",
   "execution_count": 1,
   "id": "1b0b9c65",
   "metadata": {},
   "outputs": [
    {
     "name": "stdout",
     "output_type": "stream",
     "text": [
      "index 0 has number 1\n",
      "index 1 has number 2\n",
      "index 2 has number 3\n",
      "index 3 has number 4\n"
     ]
    }
   ],
   "source": [
    "num = [1,2,3,4]\n",
    "for idx, num in enumerate(num):\n",
    "    print(\"index {0} has number {1}\".format(idx,num))"
   ]
  },
  {
   "cell_type": "code",
   "execution_count": 24,
   "id": "95fe1916",
   "metadata": {},
   "outputs": [
    {
     "name": "stdout",
     "output_type": "stream",
     "text": [
      "0\n",
      "1\n",
      "2\n",
      "3\n",
      "4\n",
      "5\n"
     ]
    }
   ],
   "source": [
    "lst = [1,2,3,4,5]\n",
    "for i,j in enumerate(lst):\n",
    "    print(i)\n",
    "print(j)"
   ]
  },
  {
   "cell_type": "markdown",
   "id": "2f8fc9ae",
   "metadata": {},
   "source": [
    "### Filter"
   ]
  },
  {
   "cell_type": "code",
   "execution_count": 2,
   "id": "57f7b7fa",
   "metadata": {},
   "outputs": [
    {
     "name": "stdout",
     "output_type": "stream",
     "text": [
      "[-10, -9, -8, -7, -6, -5, -4, -3, -2, -1, 0, 1, 2, 3, 4, 5, 6, 7, 8, 9]\n"
     ]
    },
    {
     "data": {
      "text/plain": [
       "[4, 16, 36, 64]"
      ]
     },
     "execution_count": 2,
     "metadata": {},
     "output_type": "execute_result"
    }
   ],
   "source": [
    "def get_even_pos_nums(l):\n",
    "    return [num*num for num in l if num%2==0 and num>0]\n",
    "\n",
    "numlst = range(-10,10)\n",
    "print(list(numlst))\n",
    "get_even_pos_nums(list(numlst))"
   ]
  },
  {
   "cell_type": "code",
   "execution_count": 26,
   "id": "f1d7fa17",
   "metadata": {},
   "outputs": [
    {
     "name": "stdout",
     "output_type": "stream",
     "text": [
      "[-10, -9, -8, -7, -6, -5, -4, -3, -2, -1, 0, 1, 2, 3, 4, 5, 6, 7, 8, 9, 10]\n",
      "[2, 4, 6, 8, 10]\n",
      "[4, 16, 36, 64, 100]\n"
     ]
    }
   ],
   "source": [
    "def get_pos_even_nums(nums):\n",
    "    return nums % 2 == 0 and nums > 0\n",
    "    \n",
    "numlst = range(-10,11)\n",
    "print(list(numlst))\n",
    "\n",
    "pos_even_num_lst = list(filter(get_pos_even_nums, numlst))\n",
    "print(pos_even_num_lst)\n",
    "\n",
    "squares = [n*n for n in pos_even_num_lst]\n",
    "print(squares)"
   ]
  },
  {
   "cell_type": "code",
   "execution_count": null,
   "id": "3f95b843",
   "metadata": {},
   "outputs": [],
   "source": []
  },
  {
   "cell_type": "markdown",
   "id": "d34386cb",
   "metadata": {},
   "source": [
    "### Map"
   ]
  },
  {
   "cell_type": "code",
   "execution_count": 27,
   "id": "0cac4637",
   "metadata": {},
   "outputs": [
    {
     "name": "stdout",
     "output_type": "stream",
     "text": [
      "[1, 4, 9, 16]\n"
     ]
    }
   ],
   "source": [
    "nums = [1,2,3,4]\n",
    "squares = []\n",
    "for i in nums:\n",
    "    squares.append(i*i)\n",
    "print(squares)"
   ]
  },
  {
   "cell_type": "code",
   "execution_count": 5,
   "id": "cec21959",
   "metadata": {},
   "outputs": [
    {
     "name": "stdout",
     "output_type": "stream",
     "text": [
      "[1, 4, 9, 16]\n"
     ]
    }
   ],
   "source": [
    "nums = [1,2,3,4]\n",
    "def squares(num):\n",
    "    return num*num\n",
    "\n",
    "squared = list(map(squares, nums))\n",
    "print(squared)"
   ]
  },
  {
   "cell_type": "markdown",
   "id": "99221d22",
   "metadata": {},
   "source": [
    "### Reduce"
   ]
  },
  {
   "cell_type": "code",
   "execution_count": 29,
   "id": "90313558",
   "metadata": {},
   "outputs": [
    {
     "name": "stdout",
     "output_type": "stream",
     "text": [
      "10\n"
     ]
    }
   ],
   "source": [
    "nums = [1,2,3,4]\n",
    "l = len(nums)\n",
    "sum = 0\n",
    "for i in range(0,l):\n",
    "    sum += nums[i]\n",
    "print(sum)"
   ]
  },
  {
   "cell_type": "code",
   "execution_count": 6,
   "id": "5c9da7fe",
   "metadata": {},
   "outputs": [
    {
     "name": "stdout",
     "output_type": "stream",
     "text": [
      "10\n"
     ]
    }
   ],
   "source": [
    "nums = [1,2,3,4]\n",
    "from functools import reduce\n",
    "\n",
    "def sum(num1,num2):\n",
    "    return num1+num2\n",
    "\n",
    "mult = reduce(sum,nums)\n",
    "print(mult)\n"
   ]
  },
  {
   "cell_type": "markdown",
   "id": "f5b0173b",
   "metadata": {},
   "source": [
    "### Keyword Argument"
   ]
  },
  {
   "cell_type": "code",
   "execution_count": 31,
   "id": "edf049c4",
   "metadata": {},
   "outputs": [
    {
     "name": "stdout",
     "output_type": "stream",
     "text": [
      "A is followed by B\n"
     ]
    }
   ],
   "source": [
    "def number(**kwargs):\n",
    "    if kwargs:\n",
    "        print(\"{0} is followed by {1}\".format(kwargs['num1'],kwargs['num2']))\n",
    "number(num1 = 'A', num2 = 'B')"
   ]
  },
  {
   "cell_type": "markdown",
   "id": "ddb26a11",
   "metadata": {},
   "source": [
    "### User built functions"
   ]
  },
  {
   "cell_type": "code",
   "execution_count": 32,
   "id": "2ecff26c",
   "metadata": {},
   "outputs": [
    {
     "name": "stdout",
     "output_type": "stream",
     "text": [
      "Select Option\n",
      "1. Addition\n",
      "2. Multiplication\n",
      "Enter your choice: 1 or 2: 2\n",
      "Enter First Number: 55\n",
      "Enter Second Number: 12\n",
      "660.0\n"
     ]
    }
   ],
   "source": [
    "def add(x,y):\n",
    "    return x+y\n",
    "\n",
    "def mult(x,y):\n",
    "    return x*y\n",
    "\n",
    "print (\"Select Option\")\n",
    "print(\"1. Addition\")\n",
    "print(\"2. Multiplication\")\n",
    "\n",
    "ch = int(input(\"Enter your choice: 1 or 2: \"))\n",
    "num1 = float(input(\"Enter First Number: \"))\n",
    "num2 = float(input(\"Enter Second Number: \"))\n",
    "\n",
    "if ch == 1:\n",
    "    res = add(num1,num2)\n",
    "    print(round(res,2))\n",
    "elif ch == 2:\n",
    "    print(mult(num1,num2))\n",
    "else:\n",
    "    print(\"Invalid Choice\")"
   ]
  },
  {
   "cell_type": "markdown",
   "id": "738af3fd",
   "metadata": {},
   "source": [
    "#### Factorial"
   ]
  },
  {
   "cell_type": "code",
   "execution_count": 9,
   "id": "e74c0f53",
   "metadata": {},
   "outputs": [
    {
     "name": "stdout",
     "output_type": "stream",
     "text": [
      "Factorial of 6 is 720 \n"
     ]
    }
   ],
   "source": [
    "def factorial(num):\n",
    "    return 1 if num == 1 else (num * factorial (num - 1))\n",
    "\n",
    "num = 6\n",
    "print(\"Factorial of {0} is {1} \".format(num, factorial(num)))"
   ]
  },
  {
   "cell_type": "markdown",
   "id": "fe01ad86",
   "metadata": {},
   "source": [
    "#### Prime"
   ]
  },
  {
   "cell_type": "code",
   "execution_count": 35,
   "id": "84706f39",
   "metadata": {},
   "outputs": [
    {
     "name": "stdout",
     "output_type": "stream",
     "text": [
      "51 is not a prime number\n"
     ]
    }
   ],
   "source": [
    "def prime_num(num):\n",
    "    if num > 1:\n",
    "        # Iterate from 2 to n / 2\n",
    "        for i in range(2, int(num/2)+1):\n",
    "            if (num % i) == 0:\n",
    "                print(num, \"is not a prime number\")\n",
    "                break\n",
    "        else:\n",
    "            print(num, \"is a prime number\")\n",
    "    else:\n",
    "        print(num, \"is a prime number\")\n",
    "\n",
    "prime_num(51)"
   ]
  },
  {
   "cell_type": "code",
   "execution_count": 11,
   "id": "412e47d3",
   "metadata": {},
   "outputs": [
    {
     "name": "stdout",
     "output_type": "stream",
     "text": [
      "Enter Lower Number: 1\n",
      "Enter Upper Number: 5\n",
      "[2, 3, 4, 5]\n"
     ]
    }
   ],
   "source": [
    "lower = int(input(\"Enter Lower Number: \"))\n",
    "upper = int(input(\"Enter Upper Number: \"))\n",
    "\n",
    "def is_prime(n):\n",
    "    # all prime numbers are greater than 1\n",
    "    if n > 1:\n",
    "        for i in range(2, int(n/2)):\n",
    "            if (n % i) == 0:\n",
    "                break\n",
    "        else:\n",
    "            return True\n",
    "    return False    \n",
    "\n",
    "primes = [n for n in range(lower, upper + 1) if is_prime(n)]\n",
    "print(primes)\n"
   ]
  },
  {
   "cell_type": "markdown",
   "id": "8744eb13",
   "metadata": {},
   "source": [
    "#### Fibonacci"
   ]
  },
  {
   "cell_type": "code",
   "execution_count": 12,
   "id": "80324f56",
   "metadata": {},
   "outputs": [
    {
     "name": "stdout",
     "output_type": "stream",
     "text": [
      "0\n",
      "1\n",
      "1\n",
      "2\n",
      "3\n",
      "5\n",
      "8\n",
      "13\n",
      "21\n",
      "34\n"
     ]
    }
   ],
   "source": [
    "def fibonacci(num):\n",
    "    return num if num <= 1 else fibonacci(num-1) + fibonacci(num-2)\n",
    "\n",
    "n_val = 10\n",
    "for num in range(n_val):\n",
    "    print(fibonacci(num))"
   ]
  },
  {
   "cell_type": "markdown",
   "id": "4b87afe5",
   "metadata": {},
   "source": [
    "### Lambda"
   ]
  },
  {
   "cell_type": "code",
   "execution_count": 13,
   "id": "2950ab85",
   "metadata": {},
   "outputs": [
    {
     "name": "stdout",
     "output_type": "stream",
     "text": [
      "[2, 4]\n"
     ]
    }
   ],
   "source": [
    "lst = [1,2,3,4]\n",
    "even = list(filter(lambda x: (x%2 == 0), lst))\n",
    "print(even)"
   ]
  },
  {
   "cell_type": "code",
   "execution_count": 14,
   "id": "bd7e486e",
   "metadata": {},
   "outputs": [
    {
     "name": "stdout",
     "output_type": "stream",
     "text": [
      "[1, 4, 9, 16]\n"
     ]
    }
   ],
   "source": [
    "lst = [1,2,3,4]\n",
    "squares = list(map(lambda x: (x**2), lst))\n",
    "print(squares)"
   ]
  },
  {
   "cell_type": "code",
   "execution_count": 36,
   "id": "3daef348",
   "metadata": {},
   "outputs": [
    {
     "name": "stdout",
     "output_type": "stream",
     "text": [
      "24\n"
     ]
    }
   ],
   "source": [
    "from functools import reduce\n",
    "lst = [1,2,3,4]\n",
    "add = reduce(lambda x,y: (x*y), lst)\n",
    "print(add)"
   ]
  },
  {
   "cell_type": "markdown",
   "id": "067ac05a",
   "metadata": {},
   "source": [
    "### Try Exception Handling"
   ]
  },
  {
   "cell_type": "code",
   "execution_count": 16,
   "id": "ecafda67",
   "metadata": {},
   "outputs": [
    {
     "name": "stdout",
     "output_type": "stream",
     "text": [
      "Hi! I'm Try. My work is to... Umm.. Try\n",
      "But try What?\n",
      "Try not to Raise an Exception\n",
      "***********\n",
      "Hi! I'm Else. I will run if Try does not raise any exception\n",
      "***********\n",
      "Hi! I'm Finally. I will run anyway. No one can stop me\n"
     ]
    }
   ],
   "source": [
    "try:\n",
    "    print(\"Hi! I'm Try. My work is to... Umm.. Try\")\n",
    "    print(\"But try What?\")\n",
    "    print(\"Try not to Raise an Exception\")\n",
    "except:\n",
    "    print(\"***********\")\n",
    "    print(\"Hi! I'm Exception. My work is to catch an exception\")\n",
    "    print(\"Which Exception?\")\n",
    "    print(\"Any exception if try block raises it\")\n",
    "else:\n",
    "    print(\"***********\")\n",
    "    print(\"Hi! I'm Else. I will run if Try does not raise any exception\")\n",
    "finally:\n",
    "    print(\"***********\")\n",
    "    print(\"Hi! I'm Finally. I will run anyway. No one can stop me\")"
   ]
  },
  {
   "cell_type": "code",
   "execution_count": 37,
   "id": "6b72c4aa",
   "metadata": {},
   "outputs": [
    {
     "name": "stdout",
     "output_type": "stream",
     "text": [
      "The number is  b\n",
      "<class 'ValueError'> occurred\n",
      "The number is  0\n",
      "<class 'ZeroDivisionError'> occurred\n",
      "The number is  2\n",
      "The required output is  0.5\n"
     ]
    }
   ],
   "source": [
    "import sys\n",
    "lst = ['b',0,2]\n",
    "for i in lst:\n",
    "    try:\n",
    "        print(\"The number is \",i)\n",
    "        new = 1/int(i)\n",
    "    except:\n",
    "        print(sys.exc_info()[0], \"occurred\")\n",
    "print(\"The required output is \",new) "
   ]
  },
  {
   "cell_type": "code",
   "execution_count": 40,
   "id": "025f0ecf",
   "metadata": {},
   "outputs": [
    {
     "name": "stdout",
     "output_type": "stream",
     "text": [
      "Enter the amount to withdraw98.89\n",
      "invalid literal for int() with base 10: '98.89'\n",
      "The amount you want to withdraw is 200\n"
     ]
    }
   ],
   "source": [
    "try:\n",
    "    amt = int(input(\"Enter the amount to withdraw\"))\n",
    "    if amt <= 0:\n",
    "        raise ValueError(\"Invalid Amount to withdraw\")\n",
    "except ValueError as e:\n",
    "    print(e)\n",
    "else:\n",
    "    print(\"Yes Rs.\",amt, \"is a valid amount\")\n",
    "finally:\n",
    "    print(\"The amount you want to withdraw is\", amt)"
   ]
  },
  {
   "cell_type": "code",
   "execution_count": null,
   "id": "fe936664",
   "metadata": {},
   "outputs": [],
   "source": []
  }
 ],
 "metadata": {
  "kernelspec": {
   "display_name": "Python 3",
   "language": "python",
   "name": "python3"
  },
  "language_info": {
   "codemirror_mode": {
    "name": "ipython",
    "version": 3
   },
   "file_extension": ".py",
   "mimetype": "text/x-python",
   "name": "python",
   "nbconvert_exporter": "python",
   "pygments_lexer": "ipython3",
   "version": "3.8.8"
  }
 },
 "nbformat": 4,
 "nbformat_minor": 5
}
